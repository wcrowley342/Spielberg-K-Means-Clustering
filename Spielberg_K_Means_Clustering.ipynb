{
  "nbformat": 4,
  "nbformat_minor": 0,
  "metadata": {
    "colab": {
      "name": "Spielberg K Means Clustering.ipynb",
      "provenance": [],
      "authorship_tag": "ABX9TyPduVOhVBowGOlJvRCIgdD3",
      "include_colab_link": true
    },
    "kernelspec": {
      "name": "python3",
      "display_name": "Python 3"
    },
    "language_info": {
      "name": "python"
    }
  },
  "cells": [
    {
      "cell_type": "markdown",
      "metadata": {
        "id": "view-in-github",
        "colab_type": "text"
      },
      "source": [
        "<a href=\"https://colab.research.google.com/github/wcrowley342/Spielberg-K-Means-Clustering/blob/main/Spielberg_K_Means_Clustering.ipynb\" target=\"_parent\"><img src=\"https://colab.research.google.com/assets/colab-badge.svg\" alt=\"Open In Colab\"/></a>"
      ]
    },
    {
      "cell_type": "markdown",
      "metadata": {
        "id": "V2wNZgiaoZIT"
      },
      "source": [
        "# Reading in libraries and data"
      ]
    },
    {
      "cell_type": "code",
      "metadata": {
        "id": "AO6SUxYIo7RF",
        "colab": {
          "base_uri": "https://localhost:8080/",
          "height": 200
        },
        "outputId": "1e713568-d082-4e3b-b727-a24ce1010c93"
      },
      "source": [
        "#import key libraries\n",
        "import pandas as pd\n",
        "import numpy as np\n",
        "import seaborn as sns\n",
        "import matplotlib.pyplot as plt\n",
        "import plotly as py\n",
        "import plotly.express as px\n",
        "from sklearn.cluster import KMeans\n",
        "\n",
        "#import data\n",
        "movie_data = pd.read_csv(\"/content/Spielberg Movie Data Final Clean 8.11.csv\", encoding='latin-1')  \n",
        "movie_data.head()\n"
      ],
      "execution_count": 79,
      "outputs": [
        {
          "output_type": "execute_result",
          "data": {
            "text/html": [
              "<div>\n",
              "<style scoped>\n",
              "    .dataframe tbody tr th:only-of-type {\n",
              "        vertical-align: middle;\n",
              "    }\n",
              "\n",
              "    .dataframe tbody tr th {\n",
              "        vertical-align: top;\n",
              "    }\n",
              "\n",
              "    .dataframe thead th {\n",
              "        text-align: right;\n",
              "    }\n",
              "</style>\n",
              "<table border=\"1\" class=\"dataframe\">\n",
              "  <thead>\n",
              "    <tr style=\"text-align: right;\">\n",
              "      <th></th>\n",
              "      <th>Title</th>\n",
              "      <th>Release Date</th>\n",
              "      <th>BoxOffice</th>\n",
              "      <th>TomatoMeter</th>\n",
              "      <th>Duration</th>\n",
              "    </tr>\n",
              "  </thead>\n",
              "  <tbody>\n",
              "    <tr>\n",
              "      <th>0</th>\n",
              "      <td>Ready Player One</td>\n",
              "      <td>29-Mar-18</td>\n",
              "      <td>137690172</td>\n",
              "      <td>72</td>\n",
              "      <td>140</td>\n",
              "    </tr>\n",
              "    <tr>\n",
              "      <th>1</th>\n",
              "      <td>The Post</td>\n",
              "      <td>22-Dec-17</td>\n",
              "      <td>81903458</td>\n",
              "      <td>88</td>\n",
              "      <td>116</td>\n",
              "    </tr>\n",
              "    <tr>\n",
              "      <th>2</th>\n",
              "      <td>The BFG</td>\n",
              "      <td>1-Jul-16</td>\n",
              "      <td>55483770</td>\n",
              "      <td>74</td>\n",
              "      <td>117</td>\n",
              "    </tr>\n",
              "    <tr>\n",
              "      <th>3</th>\n",
              "      <td>Bridge of Spies</td>\n",
              "      <td>16-Oct-15</td>\n",
              "      <td>72313754</td>\n",
              "      <td>90</td>\n",
              "      <td>142</td>\n",
              "    </tr>\n",
              "    <tr>\n",
              "      <th>4</th>\n",
              "      <td>Lincoln</td>\n",
              "      <td>9-Nov-12</td>\n",
              "      <td>182207973</td>\n",
              "      <td>89</td>\n",
              "      <td>150</td>\n",
              "    </tr>\n",
              "  </tbody>\n",
              "</table>\n",
              "</div>"
            ],
            "text/plain": [
              "              Title Release Date  BoxOffice  TomatoMeter  Duration\n",
              "0  Ready Player One    29-Mar-18  137690172           72       140\n",
              "1          The Post    22-Dec-17   81903458           88       116\n",
              "2           The BFG     1-Jul-16   55483770           74       117\n",
              "3   Bridge of Spies    16-Oct-15   72313754           90       142\n",
              "4           Lincoln     9-Nov-12  182207973           89       150"
            ]
          },
          "metadata": {},
          "execution_count": 79
        }
      ]
    },
    {
      "cell_type": "code",
      "metadata": {
        "colab": {
          "base_uri": "https://localhost:8080/",
          "height": 200
        },
        "id": "7C9mSs-wcQS_",
        "outputId": "2f3ed8b4-abff-4e82-abe8-60bd0459c086"
      },
      "source": [
        "\n",
        "testing_github = pd.read_csv('https://raw.githubusercontent.com/wcrowley342/Spielberg-K-Means-Clustering/main/Spielberg%20Movie%20Data%20-%20Cleaned.csv')\n",
        "testing_github.head()"
      ],
      "execution_count": 140,
      "outputs": [
        {
          "output_type": "execute_result",
          "data": {
            "text/html": [
              "<div>\n",
              "<style scoped>\n",
              "    .dataframe tbody tr th:only-of-type {\n",
              "        vertical-align: middle;\n",
              "    }\n",
              "\n",
              "    .dataframe tbody tr th {\n",
              "        vertical-align: top;\n",
              "    }\n",
              "\n",
              "    .dataframe thead th {\n",
              "        text-align: right;\n",
              "    }\n",
              "</style>\n",
              "<table border=\"1\" class=\"dataframe\">\n",
              "  <thead>\n",
              "    <tr style=\"text-align: right;\">\n",
              "      <th></th>\n",
              "      <th>Title</th>\n",
              "      <th>Release Date</th>\n",
              "      <th>Box Office</th>\n",
              "      <th>TomatoMeter</th>\n",
              "      <th>Duration</th>\n",
              "    </tr>\n",
              "  </thead>\n",
              "  <tbody>\n",
              "    <tr>\n",
              "      <th>0</th>\n",
              "      <td>Ready Player One</td>\n",
              "      <td>Mar 29, 2018</td>\n",
              "      <td>137,690,172</td>\n",
              "      <td>72</td>\n",
              "      <td>140</td>\n",
              "    </tr>\n",
              "    <tr>\n",
              "      <th>1</th>\n",
              "      <td>The Post</td>\n",
              "      <td>Dec 22, 2017</td>\n",
              "      <td>81,903,458</td>\n",
              "      <td>88</td>\n",
              "      <td>116</td>\n",
              "    </tr>\n",
              "    <tr>\n",
              "      <th>2</th>\n",
              "      <td>The BFG</td>\n",
              "      <td>Jul 1, 2016</td>\n",
              "      <td>55,483,770</td>\n",
              "      <td>74</td>\n",
              "      <td>117</td>\n",
              "    </tr>\n",
              "    <tr>\n",
              "      <th>3</th>\n",
              "      <td>Bridge of Spies</td>\n",
              "      <td>Oct 16, 2015</td>\n",
              "      <td>72,313,754</td>\n",
              "      <td>90</td>\n",
              "      <td>142</td>\n",
              "    </tr>\n",
              "    <tr>\n",
              "      <th>4</th>\n",
              "      <td>Lincoln</td>\n",
              "      <td>Nov 9, 2012</td>\n",
              "      <td>182,207,973</td>\n",
              "      <td>89</td>\n",
              "      <td>150</td>\n",
              "    </tr>\n",
              "  </tbody>\n",
              "</table>\n",
              "</div>"
            ],
            "text/plain": [
              "              Title  Release Date   Box Office  TomatoMeter  Duration\n",
              "0  Ready Player One  Mar 29, 2018  137,690,172           72       140\n",
              "1          The Post  Dec 22, 2017   81,903,458           88       116\n",
              "2           The BFG   Jul 1, 2016   55,483,770           74       117\n",
              "3   Bridge of Spies  Oct 16, 2015   72,313,754           90       142\n",
              "4           Lincoln   Nov 9, 2012  182,207,973           89       150"
            ]
          },
          "metadata": {},
          "execution_count": 140
        }
      ]
    },
    {
      "cell_type": "markdown",
      "metadata": {
        "id": "-HtAahOGuTD-"
      },
      "source": [
        "# Initial Data Prep and Analysis"
      ]
    },
    {
      "cell_type": "code",
      "metadata": {
        "colab": {
          "base_uri": "https://localhost:8080/"
        },
        "id": "gI4l6LO4ts1U",
        "outputId": "a59d24db-30f5-4a28-ab4e-917aae7b6985"
      },
      "source": [
        "movie_data.info()"
      ],
      "execution_count": 80,
      "outputs": [
        {
          "output_type": "stream",
          "name": "stdout",
          "text": [
            "<class 'pandas.core.frame.DataFrame'>\n",
            "RangeIndex: 31 entries, 0 to 30\n",
            "Data columns (total 5 columns):\n",
            " #   Column        Non-Null Count  Dtype \n",
            "---  ------        --------------  ----- \n",
            " 0   Title         31 non-null     object\n",
            " 1   Release Date  31 non-null     object\n",
            " 2   BoxOffice     31 non-null     int64 \n",
            " 3   TomatoMeter   31 non-null     int64 \n",
            " 4   Duration      31 non-null     int64 \n",
            "dtypes: int64(3), object(2)\n",
            "memory usage: 1.3+ KB\n"
          ]
        }
      ]
    },
    {
      "cell_type": "code",
      "metadata": {
        "colab": {
          "base_uri": "https://localhost:8080/",
          "height": 290
        },
        "id": "uf9zKA65txAP",
        "outputId": "917c4948-7776-45de-f1fd-ccb8b43aabed"
      },
      "source": [
        "#review dataset\n",
        "movie_data.describe()"
      ],
      "execution_count": 81,
      "outputs": [
        {
          "output_type": "execute_result",
          "data": {
            "text/html": [
              "<div>\n",
              "<style scoped>\n",
              "    .dataframe tbody tr th:only-of-type {\n",
              "        vertical-align: middle;\n",
              "    }\n",
              "\n",
              "    .dataframe tbody tr th {\n",
              "        vertical-align: top;\n",
              "    }\n",
              "\n",
              "    .dataframe thead th {\n",
              "        text-align: right;\n",
              "    }\n",
              "</style>\n",
              "<table border=\"1\" class=\"dataframe\">\n",
              "  <thead>\n",
              "    <tr style=\"text-align: right;\">\n",
              "      <th></th>\n",
              "      <th>BoxOffice</th>\n",
              "      <th>TomatoMeter</th>\n",
              "      <th>Duration</th>\n",
              "    </tr>\n",
              "  </thead>\n",
              "  <tbody>\n",
              "    <tr>\n",
              "      <th>count</th>\n",
              "      <td>3.100000e+01</td>\n",
              "      <td>31.000000</td>\n",
              "      <td>31.000000</td>\n",
              "    </tr>\n",
              "    <tr>\n",
              "      <th>mean</th>\n",
              "      <td>1.463098e+08</td>\n",
              "      <td>78.451613</td>\n",
              "      <td>134.935484</td>\n",
              "    </tr>\n",
              "    <tr>\n",
              "      <th>std</th>\n",
              "      <td>1.061574e+08</td>\n",
              "      <td>16.796505</td>\n",
              "      <td>20.319015</td>\n",
              "    </tr>\n",
              "    <tr>\n",
              "      <th>min</th>\n",
              "      <td>2.223870e+07</td>\n",
              "      <td>29.000000</td>\n",
              "      <td>102.000000</td>\n",
              "    </tr>\n",
              "    <tr>\n",
              "      <th>25%</th>\n",
              "      <td>7.469386e+07</td>\n",
              "      <td>74.000000</td>\n",
              "      <td>118.000000</td>\n",
              "    </tr>\n",
              "    <tr>\n",
              "      <th>50%</th>\n",
              "      <td>1.196548e+08</td>\n",
              "      <td>78.000000</td>\n",
              "      <td>129.000000</td>\n",
              "    </tr>\n",
              "    <tr>\n",
              "      <th>75%</th>\n",
              "      <td>2.067534e+08</td>\n",
              "      <td>91.000000</td>\n",
              "      <td>146.000000</td>\n",
              "    </tr>\n",
              "    <tr>\n",
              "      <th>max</th>\n",
              "      <td>4.351106e+08</td>\n",
              "      <td>98.000000</td>\n",
              "      <td>195.000000</td>\n",
              "    </tr>\n",
              "  </tbody>\n",
              "</table>\n",
              "</div>"
            ],
            "text/plain": [
              "          BoxOffice  TomatoMeter    Duration\n",
              "count  3.100000e+01    31.000000   31.000000\n",
              "mean   1.463098e+08    78.451613  134.935484\n",
              "std    1.061574e+08    16.796505   20.319015\n",
              "min    2.223870e+07    29.000000  102.000000\n",
              "25%    7.469386e+07    74.000000  118.000000\n",
              "50%    1.196548e+08    78.000000  129.000000\n",
              "75%    2.067534e+08    91.000000  146.000000\n",
              "max    4.351106e+08    98.000000  195.000000"
            ]
          },
          "metadata": {},
          "execution_count": 81
        }
      ]
    },
    {
      "cell_type": "code",
      "metadata": {
        "colab": {
          "base_uri": "https://localhost:8080/",
          "height": 542
        },
        "id": "tppHKJK4rgaR",
        "outputId": "3dbc80f5-ac81-4354-b219-ed8d803c1c87"
      },
      "source": [
        "#plot your data via plotly \n",
        "\n",
        "fig = px.scatter(x=movie_data.BoxOffice, y=movie_data.TomatoMeter, color =movie_data.Title)\n",
        "\n",
        "fig.update_layout(title='Spielberg Films', title_x=0.5, xaxis_title='BoxOffice($)', yaxis_title='TomatoMeter(%)', showlegend=False)\n",
        "\n",
        "fig.show()"
      ],
      "execution_count": 82,
      "outputs": [
        {
          "output_type": "display_data",
          "data": {
            "text/html": [
              "<html>\n",
              "<head><meta charset=\"utf-8\" /></head>\n",
              "<body>\n",
              "    <div>\n",
              "            <script src=\"https://cdnjs.cloudflare.com/ajax/libs/mathjax/2.7.5/MathJax.js?config=TeX-AMS-MML_SVG\"></script><script type=\"text/javascript\">if (window.MathJax) {MathJax.Hub.Config({SVG: {font: \"STIX-Web\"}});}</script>\n",
              "                <script type=\"text/javascript\">window.PlotlyConfig = {MathJaxConfig: 'local'};</script>\n",
              "        <script src=\"https://cdn.plot.ly/plotly-latest.min.js\"></script>    \n",
              "            <div id=\"e271f268-a1f1-4239-a3d7-950feeca33f3\" class=\"plotly-graph-div\" style=\"height:525px; width:100%;\"></div>\n",
              "            <script type=\"text/javascript\">\n",
              "                \n",
              "                    window.PLOTLYENV=window.PLOTLYENV || {};\n",
              "                    \n",
              "                if (document.getElementById(\"e271f268-a1f1-4239-a3d7-950feeca33f3\")) {\n",
              "                    Plotly.newPlot(\n",
              "                        'e271f268-a1f1-4239-a3d7-950feeca33f3',\n",
              "                        [{\"hoverlabel\": {\"namelength\": 0}, \"hovertemplate\": \"color=Ready Player One<br>x=%{x}<br>y=%{y}\", \"legendgroup\": \"color=Ready Player One\", \"marker\": {\"color\": \"#636efa\", \"symbol\": \"circle\"}, \"mode\": \"markers\", \"name\": \"color=Ready Player One\", \"showlegend\": true, \"type\": \"scatter\", \"x\": [137690172], \"xaxis\": \"x\", \"y\": [72], \"yaxis\": \"y\"}, {\"hoverlabel\": {\"namelength\": 0}, \"hovertemplate\": \"color=The Post<br>x=%{x}<br>y=%{y}\", \"legendgroup\": \"color=The Post\", \"marker\": {\"color\": \"#EF553B\", \"symbol\": \"circle\"}, \"mode\": \"markers\", \"name\": \"color=The Post\", \"showlegend\": true, \"type\": \"scatter\", \"x\": [81903458], \"xaxis\": \"x\", \"y\": [88], \"yaxis\": \"y\"}, {\"hoverlabel\": {\"namelength\": 0}, \"hovertemplate\": \"color=The BFG<br>x=%{x}<br>y=%{y}\", \"legendgroup\": \"color=The BFG\", \"marker\": {\"color\": \"#00cc96\", \"symbol\": \"circle\"}, \"mode\": \"markers\", \"name\": \"color=The BFG\", \"showlegend\": true, \"type\": \"scatter\", \"x\": [55483770], \"xaxis\": \"x\", \"y\": [74], \"yaxis\": \"y\"}, {\"hoverlabel\": {\"namelength\": 0}, \"hovertemplate\": \"color=Bridge of Spies<br>x=%{x}<br>y=%{y}\", \"legendgroup\": \"color=Bridge of Spies\", \"marker\": {\"color\": \"#ab63fa\", \"symbol\": \"circle\"}, \"mode\": \"markers\", \"name\": \"color=Bridge of Spies\", \"showlegend\": true, \"type\": \"scatter\", \"x\": [72313754], \"xaxis\": \"x\", \"y\": [90], \"yaxis\": \"y\"}, {\"hoverlabel\": {\"namelength\": 0}, \"hovertemplate\": \"color=Lincoln<br>x=%{x}<br>y=%{y}\", \"legendgroup\": \"color=Lincoln\", \"marker\": {\"color\": \"#FFA15A\", \"symbol\": \"circle\"}, \"mode\": \"markers\", \"name\": \"color=Lincoln\", \"showlegend\": true, \"type\": \"scatter\", \"x\": [182207973], \"xaxis\": \"x\", \"y\": [89], \"yaxis\": \"y\"}, {\"hoverlabel\": {\"namelength\": 0}, \"hovertemplate\": \"color=War Horse<br>x=%{x}<br>y=%{y}\", \"legendgroup\": \"color=War Horse\", \"marker\": {\"color\": \"#19d3f3\", \"symbol\": \"circle\"}, \"mode\": \"markers\", \"name\": \"color=War Horse\", \"showlegend\": true, \"type\": \"scatter\", \"x\": [79883359], \"xaxis\": \"x\", \"y\": [74], \"yaxis\": \"y\"}, {\"hoverlabel\": {\"namelength\": 0}, \"hovertemplate\": \"color=The Adventures of Tintin<br>x=%{x}<br>y=%{y}\", \"legendgroup\": \"color=The Adventures of Tintin\", \"marker\": {\"color\": \"#FF6692\", \"symbol\": \"circle\"}, \"mode\": \"markers\", \"name\": \"color=The Adventures of Tintin\", \"showlegend\": true, \"type\": \"scatter\", \"x\": [77591831], \"xaxis\": \"x\", \"y\": [74], \"yaxis\": \"y\"}, {\"hoverlabel\": {\"namelength\": 0}, \"hovertemplate\": \"color=Indiana Jones and the Kingdom of the Crystal Skull<br>x=%{x}<br>y=%{y}\", \"legendgroup\": \"color=Indiana Jones and the Kingdom of the Crystal Skull\", \"marker\": {\"color\": \"#B6E880\", \"symbol\": \"circle\"}, \"mode\": \"markers\", \"name\": \"color=Indiana Jones and the Kingdom of the Crystal Skull\", \"showlegend\": true, \"type\": \"scatter\", \"x\": [317101119], \"xaxis\": \"x\", \"y\": [78], \"yaxis\": \"y\"}, {\"hoverlabel\": {\"namelength\": 0}, \"hovertemplate\": \"color=Munich<br>x=%{x}<br>y=%{y}\", \"legendgroup\": \"color=Munich\", \"marker\": {\"color\": \"#FF97FF\", \"symbol\": \"circle\"}, \"mode\": \"markers\", \"name\": \"color=Munich\", \"showlegend\": true, \"type\": \"scatter\", \"x\": [47379090], \"xaxis\": \"x\", \"y\": [78], \"yaxis\": \"y\"}, {\"hoverlabel\": {\"namelength\": 0}, \"hovertemplate\": \"color=War of the Worlds<br>x=%{x}<br>y=%{y}\", \"legendgroup\": \"color=War of the Worlds\", \"marker\": {\"color\": \"#FECB52\", \"symbol\": \"circle\"}, \"mode\": \"markers\", \"name\": \"color=War of the Worlds\", \"showlegend\": true, \"type\": \"scatter\", \"x\": [234280354], \"xaxis\": \"x\", \"y\": [75], \"yaxis\": \"y\"}, {\"hoverlabel\": {\"namelength\": 0}, \"hovertemplate\": \"color=The Terminal<br>x=%{x}<br>y=%{y}\", \"legendgroup\": \"color=The Terminal\", \"marker\": {\"color\": \"#636efa\", \"symbol\": \"circle\"}, \"mode\": \"markers\", \"name\": \"color=The Terminal\", \"showlegend\": true, \"type\": \"scatter\", \"x\": [77073959], \"xaxis\": \"x\", \"y\": [61], \"yaxis\": \"y\"}, {\"hoverlabel\": {\"namelength\": 0}, \"hovertemplate\": \"color=Catch Me if You Can<br>x=%{x}<br>y=%{y}\", \"legendgroup\": \"color=Catch Me if You Can\", \"marker\": {\"color\": \"#EF553B\", \"symbol\": \"circle\"}, \"mode\": \"markers\", \"name\": \"color=Catch Me if You Can\", \"showlegend\": true, \"type\": \"scatter\", \"x\": [164606800], \"xaxis\": \"x\", \"y\": [96], \"yaxis\": \"y\"}, {\"hoverlabel\": {\"namelength\": 0}, \"hovertemplate\": \"color=Minority Report<br>x=%{x}<br>y=%{y}\", \"legendgroup\": \"color=Minority Report\", \"marker\": {\"color\": \"#00cc96\", \"symbol\": \"circle\"}, \"mode\": \"markers\", \"name\": \"color=Minority Report\", \"showlegend\": true, \"type\": \"scatter\", \"x\": [132024714], \"xaxis\": \"x\", \"y\": [90], \"yaxis\": \"y\"}, {\"hoverlabel\": {\"namelength\": 0}, \"hovertemplate\": \"color=A.I.: Artificial Intelligence<br>x=%{x}<br>y=%{y}\", \"legendgroup\": \"color=A.I.: Artificial Intelligence\", \"marker\": {\"color\": \"#ab63fa\", \"symbol\": \"circle\"}, \"mode\": \"markers\", \"name\": \"color=A.I.: Artificial Intelligence\", \"showlegend\": true, \"type\": \"scatter\", \"x\": [78616689], \"xaxis\": \"x\", \"y\": [74], \"yaxis\": \"y\"}, {\"hoverlabel\": {\"namelength\": 0}, \"hovertemplate\": \"color=Saving Private Ryan<br>x=%{x}<br>y=%{y}\", \"legendgroup\": \"color=Saving Private Ryan\", \"marker\": {\"color\": \"#FFA15A\", \"symbol\": \"circle\"}, \"mode\": \"markers\", \"name\": \"color=Saving Private Ryan\", \"showlegend\": true, \"type\": \"scatter\", \"x\": [216335085], \"xaxis\": \"x\", \"y\": [93], \"yaxis\": \"y\"}, {\"hoverlabel\": {\"namelength\": 0}, \"hovertemplate\": \"color=Amistad<br>x=%{x}<br>y=%{y}\", \"legendgroup\": \"color=Amistad\", \"marker\": {\"color\": \"#19d3f3\", \"symbol\": \"circle\"}, \"mode\": \"markers\", \"name\": \"color=Amistad\", \"showlegend\": true, \"type\": \"scatter\", \"x\": [44212592], \"xaxis\": \"x\", \"y\": [77], \"yaxis\": \"y\"}, {\"hoverlabel\": {\"namelength\": 0}, \"hovertemplate\": \"color=The Lost World: Jurassic Park<br>x=%{x}<br>y=%{y}\", \"legendgroup\": \"color=The Lost World: Jurassic Park\", \"marker\": {\"color\": \"#FF6692\", \"symbol\": \"circle\"}, \"mode\": \"markers\", \"name\": \"color=The Lost World: Jurassic Park\", \"showlegend\": true, \"type\": \"scatter\", \"x\": [229086679], \"xaxis\": \"x\", \"y\": [53], \"yaxis\": \"y\"}, {\"hoverlabel\": {\"namelength\": 0}, \"hovertemplate\": \"color=Schindler's List<br>x=%{x}<br>y=%{y}\", \"legendgroup\": \"color=Schindler's List\", \"marker\": {\"color\": \"#B6E880\", \"symbol\": \"circle\"}, \"mode\": \"markers\", \"name\": \"color=Schindler's List\", \"showlegend\": true, \"type\": \"scatter\", \"x\": [96898818], \"xaxis\": \"x\", \"y\": [98], \"yaxis\": \"y\"}, {\"hoverlabel\": {\"namelength\": 0}, \"hovertemplate\": \"color=Jurassic Park<br>x=%{x}<br>y=%{y}\", \"legendgroup\": \"color=Jurassic Park\", \"marker\": {\"color\": \"#FF97FF\", \"symbol\": \"circle\"}, \"mode\": \"markers\", \"name\": \"color=Jurassic Park\", \"showlegend\": true, \"type\": \"scatter\", \"x\": [402523348], \"xaxis\": \"x\", \"y\": [92], \"yaxis\": \"y\"}, {\"hoverlabel\": {\"namelength\": 0}, \"hovertemplate\": \"color=Hook<br>x=%{x}<br>y=%{y}\", \"legendgroup\": \"color=Hook\", \"marker\": {\"color\": \"#FECB52\", \"symbol\": \"circle\"}, \"mode\": \"markers\", \"name\": \"color=Hook\", \"showlegend\": true, \"type\": \"scatter\", \"x\": [119654823], \"xaxis\": \"x\", \"y\": [29], \"yaxis\": \"y\"}, {\"hoverlabel\": {\"namelength\": 0}, \"hovertemplate\": \"color=Always<br>x=%{x}<br>y=%{y}\", \"legendgroup\": \"color=Always\", \"marker\": {\"color\": \"#636efa\", \"symbol\": \"circle\"}, \"mode\": \"markers\", \"name\": \"color=Always\", \"showlegend\": true, \"type\": \"scatter\", \"x\": [41843630], \"xaxis\": \"x\", \"y\": [64], \"yaxis\": \"y\"}, {\"hoverlabel\": {\"namelength\": 0}, \"hovertemplate\": \"color=Indiana Jones and the Last Crusade<br>x=%{x}<br>y=%{y}\", \"legendgroup\": \"color=Indiana Jones and the Last Crusade\", \"marker\": {\"color\": \"#EF553B\", \"symbol\": \"circle\"}, \"mode\": \"markers\", \"name\": \"color=Indiana Jones and the Last Crusade\", \"showlegend\": true, \"type\": \"scatter\", \"x\": [197171806], \"xaxis\": \"x\", \"y\": [88], \"yaxis\": \"y\"}, {\"hoverlabel\": {\"namelength\": 0}, \"hovertemplate\": \"color=Empire of the Sun<br>x=%{x}<br>y=%{y}\", \"legendgroup\": \"color=Empire of the Sun\", \"marker\": {\"color\": \"#00cc96\", \"symbol\": \"circle\"}, \"mode\": \"markers\", \"name\": \"color=Empire of the Sun\", \"showlegend\": true, \"type\": \"scatter\", \"x\": [22238696], \"xaxis\": \"x\", \"y\": [75], \"yaxis\": \"y\"}, {\"hoverlabel\": {\"namelength\": 0}, \"hovertemplate\": \"color=The Color Purple<br>x=%{x}<br>y=%{y}\", \"legendgroup\": \"color=The Color Purple\", \"marker\": {\"color\": \"#ab63fa\", \"symbol\": \"circle\"}, \"mode\": \"markers\", \"name\": \"color=The Color Purple\", \"showlegend\": true, \"type\": \"scatter\", \"x\": [94029472], \"xaxis\": \"x\", \"y\": [81], \"yaxis\": \"y\"}, {\"hoverlabel\": {\"namelength\": 0}, \"hovertemplate\": \"color=Indiana Jones and the Temple of Doom<br>x=%{x}<br>y=%{y}\", \"legendgroup\": \"color=Indiana Jones and the Temple of Doom\", \"marker\": {\"color\": \"#FFA15A\", \"symbol\": \"circle\"}, \"mode\": \"markers\", \"name\": \"color=Indiana Jones and the Temple of Doom\", \"showlegend\": true, \"type\": \"scatter\", \"x\": [179880271], \"xaxis\": \"x\", \"y\": [84], \"yaxis\": \"y\"}, {\"hoverlabel\": {\"namelength\": 0}, \"hovertemplate\": \"color=Twilight Zone: The Movie<br>x=%{x}<br>y=%{y}\", \"legendgroup\": \"color=Twilight Zone: The Movie\", \"marker\": {\"color\": \"#19d3f3\", \"symbol\": \"circle\"}, \"mode\": \"markers\", \"name\": \"color=Twilight Zone: The Movie\", \"showlegend\": true, \"type\": \"scatter\", \"x\": [29500000], \"xaxis\": \"x\", \"y\": [58], \"yaxis\": \"y\"}, {\"hoverlabel\": {\"namelength\": 0}, \"hovertemplate\": \"color=E.T. the Extra-Terrestrial<br>x=%{x}<br>y=%{y}\", \"legendgroup\": \"color=E.T. the Extra-Terrestrial\", \"marker\": {\"color\": \"#FF6692\", \"symbol\": \"circle\"}, \"mode\": \"markers\", \"name\": \"color=E.T. the Extra-Terrestrial\", \"showlegend\": true, \"type\": \"scatter\", \"x\": [435110554], \"xaxis\": \"x\", \"y\": [98], \"yaxis\": \"y\"}, {\"hoverlabel\": {\"namelength\": 0}, \"hovertemplate\": \"color=Raiders of the Lost Ark<br>x=%{x}<br>y=%{y}\", \"legendgroup\": \"color=Raiders of the Lost Ark\", \"marker\": {\"color\": \"#B6E880\", \"symbol\": \"circle\"}, \"mode\": \"markers\", \"name\": \"color=Raiders of the Lost Ark\", \"showlegend\": true, \"type\": \"scatter\", \"x\": [225686079], \"xaxis\": \"x\", \"y\": [95], \"yaxis\": \"y\"}, {\"hoverlabel\": {\"namelength\": 0}, \"hovertemplate\": \"color=1941<br>x=%{x}<br>y=%{y}\", \"legendgroup\": \"color=1941\", \"marker\": {\"color\": \"#FF97FF\", \"symbol\": \"circle\"}, \"mode\": \"markers\", \"name\": \"color=1941\", \"showlegend\": true, \"type\": \"scatter\", \"x\": [34175000], \"xaxis\": \"x\", \"y\": [42], \"yaxis\": \"y\"}, {\"hoverlabel\": {\"namelength\": 0}, \"hovertemplate\": \"color=Close Encounters of the Third Kind<br>x=%{x}<br>y=%{y}\", \"legendgroup\": \"color=Close Encounters of the Third Kind\", \"marker\": {\"color\": \"#FECB52\", \"symbol\": \"circle\"}, \"mode\": \"markers\", \"name\": \"color=Close Encounters of the Third Kind\", \"showlegend\": true, \"type\": \"scatter\", \"x\": [169100479], \"xaxis\": \"x\", \"y\": [94], \"yaxis\": \"y\"}, {\"hoverlabel\": {\"namelength\": 0}, \"hovertemplate\": \"color=Jaws<br>x=%{x}<br>y=%{y}\", \"legendgroup\": \"color=Jaws\", \"marker\": {\"color\": \"#636efa\", \"symbol\": \"circle\"}, \"mode\": \"markers\", \"name\": \"color=Jaws\", \"showlegend\": true, \"type\": \"scatter\", \"x\": [260000000], \"xaxis\": \"x\", \"y\": [98], \"yaxis\": \"y\"}],\n",
              "                        {\"legend\": {\"tracegroupgap\": 0}, \"margin\": {\"t\": 60}, \"showlegend\": false, \"template\": {\"data\": {\"bar\": [{\"error_x\": {\"color\": \"#2a3f5f\"}, \"error_y\": {\"color\": \"#2a3f5f\"}, \"marker\": {\"line\": {\"color\": \"#E5ECF6\", \"width\": 0.5}}, \"type\": \"bar\"}], \"barpolar\": [{\"marker\": {\"line\": {\"color\": \"#E5ECF6\", \"width\": 0.5}}, \"type\": \"barpolar\"}], \"carpet\": [{\"aaxis\": {\"endlinecolor\": \"#2a3f5f\", \"gridcolor\": \"white\", \"linecolor\": \"white\", \"minorgridcolor\": \"white\", \"startlinecolor\": \"#2a3f5f\"}, \"baxis\": {\"endlinecolor\": \"#2a3f5f\", \"gridcolor\": \"white\", \"linecolor\": \"white\", \"minorgridcolor\": \"white\", \"startlinecolor\": \"#2a3f5f\"}, \"type\": \"carpet\"}], \"choropleth\": [{\"colorbar\": {\"outlinewidth\": 0, \"ticks\": \"\"}, \"type\": \"choropleth\"}], \"contour\": [{\"colorbar\": {\"outlinewidth\": 0, \"ticks\": \"\"}, \"colorscale\": [[0.0, \"#0d0887\"], [0.1111111111111111, \"#46039f\"], [0.2222222222222222, \"#7201a8\"], [0.3333333333333333, \"#9c179e\"], [0.4444444444444444, \"#bd3786\"], [0.5555555555555556, \"#d8576b\"], [0.6666666666666666, \"#ed7953\"], [0.7777777777777778, \"#fb9f3a\"], [0.8888888888888888, \"#fdca26\"], [1.0, \"#f0f921\"]], \"type\": \"contour\"}], \"contourcarpet\": [{\"colorbar\": {\"outlinewidth\": 0, \"ticks\": \"\"}, \"type\": \"contourcarpet\"}], \"heatmap\": [{\"colorbar\": {\"outlinewidth\": 0, \"ticks\": \"\"}, \"colorscale\": [[0.0, \"#0d0887\"], [0.1111111111111111, \"#46039f\"], [0.2222222222222222, \"#7201a8\"], [0.3333333333333333, \"#9c179e\"], [0.4444444444444444, \"#bd3786\"], [0.5555555555555556, \"#d8576b\"], [0.6666666666666666, \"#ed7953\"], [0.7777777777777778, \"#fb9f3a\"], [0.8888888888888888, \"#fdca26\"], [1.0, \"#f0f921\"]], \"type\": \"heatmap\"}], \"heatmapgl\": [{\"colorbar\": {\"outlinewidth\": 0, \"ticks\": \"\"}, \"colorscale\": [[0.0, \"#0d0887\"], [0.1111111111111111, \"#46039f\"], [0.2222222222222222, \"#7201a8\"], [0.3333333333333333, \"#9c179e\"], [0.4444444444444444, \"#bd3786\"], [0.5555555555555556, \"#d8576b\"], [0.6666666666666666, \"#ed7953\"], [0.7777777777777778, \"#fb9f3a\"], [0.8888888888888888, \"#fdca26\"], [1.0, \"#f0f921\"]], \"type\": \"heatmapgl\"}], \"histogram\": [{\"marker\": {\"colorbar\": {\"outlinewidth\": 0, \"ticks\": \"\"}}, \"type\": \"histogram\"}], \"histogram2d\": [{\"colorbar\": {\"outlinewidth\": 0, \"ticks\": \"\"}, \"colorscale\": [[0.0, \"#0d0887\"], [0.1111111111111111, \"#46039f\"], [0.2222222222222222, \"#7201a8\"], [0.3333333333333333, \"#9c179e\"], [0.4444444444444444, \"#bd3786\"], [0.5555555555555556, \"#d8576b\"], [0.6666666666666666, \"#ed7953\"], [0.7777777777777778, \"#fb9f3a\"], [0.8888888888888888, \"#fdca26\"], [1.0, \"#f0f921\"]], \"type\": \"histogram2d\"}], \"histogram2dcontour\": [{\"colorbar\": {\"outlinewidth\": 0, \"ticks\": \"\"}, \"colorscale\": [[0.0, \"#0d0887\"], [0.1111111111111111, \"#46039f\"], [0.2222222222222222, \"#7201a8\"], [0.3333333333333333, \"#9c179e\"], [0.4444444444444444, \"#bd3786\"], [0.5555555555555556, \"#d8576b\"], [0.6666666666666666, \"#ed7953\"], [0.7777777777777778, \"#fb9f3a\"], [0.8888888888888888, \"#fdca26\"], [1.0, \"#f0f921\"]], \"type\": \"histogram2dcontour\"}], \"mesh3d\": [{\"colorbar\": {\"outlinewidth\": 0, \"ticks\": \"\"}, \"type\": \"mesh3d\"}], \"parcoords\": [{\"line\": {\"colorbar\": {\"outlinewidth\": 0, \"ticks\": \"\"}}, \"type\": \"parcoords\"}], \"pie\": [{\"automargin\": true, \"type\": \"pie\"}], \"scatter\": [{\"marker\": {\"colorbar\": {\"outlinewidth\": 0, \"ticks\": \"\"}}, \"type\": \"scatter\"}], \"scatter3d\": [{\"line\": {\"colorbar\": {\"outlinewidth\": 0, \"ticks\": \"\"}}, \"marker\": {\"colorbar\": {\"outlinewidth\": 0, \"ticks\": \"\"}}, \"type\": \"scatter3d\"}], \"scattercarpet\": [{\"marker\": {\"colorbar\": {\"outlinewidth\": 0, \"ticks\": \"\"}}, \"type\": \"scattercarpet\"}], \"scattergeo\": [{\"marker\": {\"colorbar\": {\"outlinewidth\": 0, \"ticks\": \"\"}}, \"type\": \"scattergeo\"}], \"scattergl\": [{\"marker\": {\"colorbar\": {\"outlinewidth\": 0, \"ticks\": \"\"}}, \"type\": \"scattergl\"}], \"scattermapbox\": [{\"marker\": {\"colorbar\": {\"outlinewidth\": 0, \"ticks\": \"\"}}, \"type\": \"scattermapbox\"}], \"scatterpolar\": [{\"marker\": {\"colorbar\": {\"outlinewidth\": 0, \"ticks\": \"\"}}, \"type\": \"scatterpolar\"}], \"scatterpolargl\": [{\"marker\": {\"colorbar\": {\"outlinewidth\": 0, \"ticks\": \"\"}}, \"type\": \"scatterpolargl\"}], \"scatterternary\": [{\"marker\": {\"colorbar\": {\"outlinewidth\": 0, \"ticks\": \"\"}}, \"type\": \"scatterternary\"}], \"surface\": [{\"colorbar\": {\"outlinewidth\": 0, \"ticks\": \"\"}, \"colorscale\": [[0.0, \"#0d0887\"], [0.1111111111111111, \"#46039f\"], [0.2222222222222222, \"#7201a8\"], [0.3333333333333333, \"#9c179e\"], [0.4444444444444444, \"#bd3786\"], [0.5555555555555556, \"#d8576b\"], [0.6666666666666666, \"#ed7953\"], [0.7777777777777778, \"#fb9f3a\"], [0.8888888888888888, \"#fdca26\"], [1.0, \"#f0f921\"]], \"type\": \"surface\"}], \"table\": [{\"cells\": {\"fill\": {\"color\": \"#EBF0F8\"}, \"line\": {\"color\": \"white\"}}, \"header\": {\"fill\": {\"color\": \"#C8D4E3\"}, \"line\": {\"color\": \"white\"}}, \"type\": \"table\"}]}, \"layout\": {\"annotationdefaults\": {\"arrowcolor\": \"#2a3f5f\", \"arrowhead\": 0, \"arrowwidth\": 1}, \"coloraxis\": {\"colorbar\": {\"outlinewidth\": 0, \"ticks\": \"\"}}, \"colorscale\": {\"diverging\": [[0, \"#8e0152\"], [0.1, \"#c51b7d\"], [0.2, \"#de77ae\"], [0.3, \"#f1b6da\"], [0.4, \"#fde0ef\"], [0.5, \"#f7f7f7\"], [0.6, \"#e6f5d0\"], [0.7, \"#b8e186\"], [0.8, \"#7fbc41\"], [0.9, \"#4d9221\"], [1, \"#276419\"]], \"sequential\": [[0.0, \"#0d0887\"], [0.1111111111111111, \"#46039f\"], [0.2222222222222222, \"#7201a8\"], [0.3333333333333333, \"#9c179e\"], [0.4444444444444444, \"#bd3786\"], [0.5555555555555556, \"#d8576b\"], [0.6666666666666666, \"#ed7953\"], [0.7777777777777778, \"#fb9f3a\"], [0.8888888888888888, \"#fdca26\"], [1.0, \"#f0f921\"]], \"sequentialminus\": [[0.0, \"#0d0887\"], [0.1111111111111111, \"#46039f\"], [0.2222222222222222, \"#7201a8\"], [0.3333333333333333, \"#9c179e\"], [0.4444444444444444, \"#bd3786\"], [0.5555555555555556, \"#d8576b\"], [0.6666666666666666, \"#ed7953\"], [0.7777777777777778, \"#fb9f3a\"], [0.8888888888888888, \"#fdca26\"], [1.0, \"#f0f921\"]]}, \"colorway\": [\"#636efa\", \"#EF553B\", \"#00cc96\", \"#ab63fa\", \"#FFA15A\", \"#19d3f3\", \"#FF6692\", \"#B6E880\", \"#FF97FF\", \"#FECB52\"], \"font\": {\"color\": \"#2a3f5f\"}, \"geo\": {\"bgcolor\": \"white\", \"lakecolor\": \"white\", \"landcolor\": \"#E5ECF6\", \"showlakes\": true, \"showland\": true, \"subunitcolor\": \"white\"}, \"hoverlabel\": {\"align\": \"left\"}, \"hovermode\": \"closest\", \"mapbox\": {\"style\": \"light\"}, \"paper_bgcolor\": \"white\", \"plot_bgcolor\": \"#E5ECF6\", \"polar\": {\"angularaxis\": {\"gridcolor\": \"white\", \"linecolor\": \"white\", \"ticks\": \"\"}, \"bgcolor\": \"#E5ECF6\", \"radialaxis\": {\"gridcolor\": \"white\", \"linecolor\": \"white\", \"ticks\": \"\"}}, \"scene\": {\"xaxis\": {\"backgroundcolor\": \"#E5ECF6\", \"gridcolor\": \"white\", \"gridwidth\": 2, \"linecolor\": \"white\", \"showbackground\": true, \"ticks\": \"\", \"zerolinecolor\": \"white\"}, \"yaxis\": {\"backgroundcolor\": \"#E5ECF6\", \"gridcolor\": \"white\", \"gridwidth\": 2, \"linecolor\": \"white\", \"showbackground\": true, \"ticks\": \"\", \"zerolinecolor\": \"white\"}, \"zaxis\": {\"backgroundcolor\": \"#E5ECF6\", \"gridcolor\": \"white\", \"gridwidth\": 2, \"linecolor\": \"white\", \"showbackground\": true, \"ticks\": \"\", \"zerolinecolor\": \"white\"}}, \"shapedefaults\": {\"line\": {\"color\": \"#2a3f5f\"}}, \"ternary\": {\"aaxis\": {\"gridcolor\": \"white\", \"linecolor\": \"white\", \"ticks\": \"\"}, \"baxis\": {\"gridcolor\": \"white\", \"linecolor\": \"white\", \"ticks\": \"\"}, \"bgcolor\": \"#E5ECF6\", \"caxis\": {\"gridcolor\": \"white\", \"linecolor\": \"white\", \"ticks\": \"\"}}, \"title\": {\"x\": 0.05}, \"xaxis\": {\"automargin\": true, \"gridcolor\": \"white\", \"linecolor\": \"white\", \"ticks\": \"\", \"title\": {\"standoff\": 15}, \"zerolinecolor\": \"white\", \"zerolinewidth\": 2}, \"yaxis\": {\"automargin\": true, \"gridcolor\": \"white\", \"linecolor\": \"white\", \"ticks\": \"\", \"title\": {\"standoff\": 15}, \"zerolinecolor\": \"white\", \"zerolinewidth\": 2}}}, \"title\": {\"text\": \"Spielberg Films\", \"x\": 0.5}, \"xaxis\": {\"anchor\": \"y\", \"domain\": [0.0, 1.0], \"title\": {\"text\": \"BoxOffice($)\"}}, \"yaxis\": {\"anchor\": \"x\", \"domain\": [0.0, 1.0], \"title\": {\"text\": \"TomatoMeter(%)\"}}},\n",
              "                        {\"responsive\": true}\n",
              "                    ).then(function(){\n",
              "                            \n",
              "var gd = document.getElementById('e271f268-a1f1-4239-a3d7-950feeca33f3');\n",
              "var x = new MutationObserver(function (mutations, observer) {{\n",
              "        var display = window.getComputedStyle(gd).display;\n",
              "        if (!display || display === 'none') {{\n",
              "            console.log([gd, 'removed!']);\n",
              "            Plotly.purge(gd);\n",
              "            observer.disconnect();\n",
              "        }}\n",
              "}});\n",
              "\n",
              "// Listen for the removal of the full notebook cells\n",
              "var notebookContainer = gd.closest('#notebook-container');\n",
              "if (notebookContainer) {{\n",
              "    x.observe(notebookContainer, {childList: true});\n",
              "}}\n",
              "\n",
              "// Listen for the clearing of the current output cell\n",
              "var outputEl = gd.closest('.output');\n",
              "if (outputEl) {{\n",
              "    x.observe(outputEl, {childList: true});\n",
              "}}\n",
              "\n",
              "                        })\n",
              "                };\n",
              "                \n",
              "            </script>\n",
              "        </div>\n",
              "</body>\n",
              "</html>"
            ]
          },
          "metadata": {}
        }
      ]
    },
    {
      "cell_type": "code",
      "metadata": {
        "colab": {
          "base_uri": "https://localhost:8080/",
          "height": 566
        },
        "id": "HF1NF7Uuq7Tq",
        "outputId": "eb8b1658-ec67-43f5-ff5a-3173759e3421"
      },
      "source": [
        "#create a pairplot \n",
        "\n",
        "sns.pairplot(movie_data)"
      ],
      "execution_count": 83,
      "outputs": [
        {
          "output_type": "execute_result",
          "data": {
            "text/plain": [
              "<seaborn.axisgrid.PairGrid at 0x7f3a04157290>"
            ]
          },
          "metadata": {},
          "execution_count": 83
        },
        {
          "output_type": "display_data",
          "data": {
            "image/png": "[encoded data removed]",
            "text/plain": [
              "<Figure size 540x540 with 12 Axes>"
            ]
          },
          "metadata": {
            "needs_background": "light"
          }
        }
      ]
    },
    {
      "cell_type": "code",
      "metadata": {
        "colab": {
          "base_uri": "https://localhost:8080/"
        },
        "id": "3371IQJBqfnY",
        "outputId": "336fca61-2094-4f10-e4c6-5a2a8feb41c9"
      },
      "source": [
        "#just get the columns of interest for k-means\n",
        "\n",
        "selected_columns = movie_data[['BoxOffice', 'TomatoMeter']]\n",
        "\n",
        "new_df = selected_columns\n",
        "print(new_df)"
      ],
      "execution_count": 84,
      "outputs": [
        {
          "output_type": "stream",
          "name": "stdout",
          "text": [
            "    BoxOffice  TomatoMeter\n",
            "0   137690172           72\n",
            "1    81903458           88\n",
            "2    55483770           74\n",
            "3    72313754           90\n",
            "4   182207973           89\n",
            "5    79883359           74\n",
            "6    77591831           74\n",
            "7   317101119           78\n",
            "8    47379090           78\n",
            "9   234280354           75\n",
            "10   77073959           61\n",
            "11  164606800           96\n",
            "12  132024714           90\n",
            "13   78616689           74\n",
            "14  216335085           93\n",
            "15   44212592           77\n",
            "16  229086679           53\n",
            "17   96898818           98\n",
            "18  402523348           92\n",
            "19  119654823           29\n",
            "20   41843630           64\n",
            "21  197171806           88\n",
            "22   22238696           75\n",
            "23   94029472           81\n",
            "24  179880271           84\n",
            "25   29500000           58\n",
            "26  435110554           98\n",
            "27  225686079           95\n",
            "28   34175000           42\n",
            "29  169100479           94\n",
            "30  260000000           98\n"
          ]
        }
      ]
    },
    {
      "cell_type": "code",
      "metadata": {
        "colab": {
          "base_uri": "https://localhost:8080/",
          "height": 368
        },
        "id": "SZpvnTjkugOn",
        "outputId": "f9c2d967-d6bb-4e3d-8f29-7c80daeb7650"
      },
      "source": [
        "#looking at the skew of our data\n",
        "\n",
        "sns.displot(new_df['TomatoMeter'])\n",
        "plt.show()"
      ],
      "execution_count": 85,
      "outputs": [
        {
          "output_type": "display_data",
          "data": {
            "image/png": "[encoded data removed]",
            "text/plain": [
              "<Figure size 360x360 with 1 Axes>"
            ]
          },
          "metadata": {
            "needs_background": "light"
          }
        }
      ]
    },
    {
      "cell_type": "markdown",
      "metadata": {
        "id": "XxgxSSoHocq1"
      },
      "source": [
        "# Determining number of clusters / elbow method\n"
      ]
    },
    {
      "cell_type": "code",
      "metadata": {
        "id": "MsoGzCfopH1a",
        "colab": {
          "base_uri": "https://localhost:8080/",
          "height": 295
        },
        "outputId": "aef76ace-5f2a-4008-f469-b700b8d649cb"
      },
      "source": [
        "#just get the columns of interest for k-means & elbow method\n",
        "selected_columns = movie_data[['BoxOffice', 'TomatoMeter']]\n",
        "new_df = selected_columns\n",
        "\n",
        "#find the optimial number of clusters using the elbow method\n",
        "wcss = []\n",
        "for k in range(1, 11):\n",
        "    kmeans = KMeans(n_clusters=k, init='k-means++', max_iter=300, n_init=10, random_state=0)\n",
        "    kmeans.fit(new_df)\n",
        "    wcss.append(kmeans.inertia_)\n",
        "\n",
        "#plot elbow method\n",
        "plt.plot(range(1, 11), wcss)\n",
        "plt.title('Elbow Method')\n",
        "plt.xlabel('Number of clusters')\n",
        "plt.ylabel('WCSS')\n",
        "plt.show()"
      ],
      "execution_count": 86,
      "outputs": [
        {
          "output_type": "display_data",
          "data": {
            "image/png": "[encoded data removed]",
            "text/plain": [
              "<Figure size 432x288 with 1 Axes>"
            ]
          },
          "metadata": {
            "needs_background": "light"
          }
        }
      ]
    },
    {
      "cell_type": "markdown",
      "metadata": {
        "id": "s0PnYPBcooLH"
      },
      "source": [
        "# Running K Means & Analyzing Clusters"
      ]
    },
    {
      "cell_type": "markdown",
      "metadata": {
        "id": "yuL6M4emQCHV"
      },
      "source": [
        ""
      ]
    },
    {
      "cell_type": "code",
      "metadata": {
        "id": "VSWN3YrzpB2i",
        "colab": {
          "base_uri": "https://localhost:8080/",
          "height": 295
        },
        "outputId": "cceed6cc-995c-486f-a0af-cd291b3df704"
      },
      "source": [
        "#import package\n",
        "from sklearn.cluster import KMeans\n",
        "kmeans = KMeans(n_clusters=3)\n",
        "kmeans.fit(new_df)\n",
        "y_clusters = kmeans.predict(new_df)\n",
        "\n",
        "#plot k-means & visualize the results\n",
        "plt.scatter(new_df['BoxOffice'], new_df['TomatoMeter'], c=y_clusters, s=50, cmap='viridis')\n",
        "centers = kmeans.cluster_centers_\n",
        "plt.scatter(centers[:, 0], centers[:, 1], c='black', s=200, alpha=0.5)\n",
        "plt.xlabel(\"Box Office\")\n",
        "plt.ylabel(\"Rotten Tomatoes Rating\")\n",
        "plt.legend\n",
        "plt.show\n"
      ],
      "execution_count": 124,
      "outputs": [
        {
          "output_type": "execute_result",
          "data": {
            "text/plain": [
              "<function matplotlib.pyplot.show>"
            ]
          },
          "metadata": {},
          "execution_count": 124
        },
        {
          "output_type": "display_data",
          "data": {
            "image/png": "[encoded data removed]",
            "text/plain": [
              "<Figure size 432x288 with 1 Axes>"
            ]
          },
          "metadata": {
            "needs_background": "light"
          }
        }
      ]
    },
    {
      "cell_type": "code",
      "metadata": {
        "colab": {
          "base_uri": "https://localhost:8080/",
          "height": 346
        },
        "id": "Vm4aF0mKix_f",
        "outputId": "1692cc31-de57-4d91-efd9-83780403ed0a"
      },
      "source": [
        "#set a customized color palette\n",
        "customized_palette = [\"red\", \"green\", \"orange\"]\n",
        "sns.set_palette(customized_palette)\n",
        "\n",
        "# countplot to check the number of clusters and number of customers in each cluster\n",
        "sns.countplot(y_clusters)"
      ],
      "execution_count": 125,
      "outputs": [
        {
          "output_type": "stream",
          "name": "stderr",
          "text": [
            "/usr/local/lib/python3.7/dist-packages/seaborn/_decorators.py:43: FutureWarning:\n",
            "\n",
            "Pass the following variable as a keyword arg: x. From version 0.12, the only valid positional argument will be `data`, and passing other arguments without an explicit keyword will result in an error or misinterpretation.\n",
            "\n"
          ]
        },
        {
          "output_type": "execute_result",
          "data": {
            "text/plain": [
              "<matplotlib.axes._subplots.AxesSubplot at 0x7f39fe57fc90>"
            ]
          },
          "metadata": {},
          "execution_count": 125
        },
        {
          "output_type": "display_data",
          "data": {
            "image/png": "[encoded data removed]",
            "text/plain": [
              "<Figure size 432x288 with 1 Axes>"
            ]
          },
          "metadata": {
            "needs_background": "light"
          }
        }
      ]
    },
    {
      "cell_type": "markdown",
      "metadata": {
        "id": "RF-jiumCN3qt"
      },
      "source": [
        "imbalanced clusters can indicate distant outliers or a group of data points that are quite dissimilar, which could warrrant further investigration"
      ]
    },
    {
      "cell_type": "markdown",
      "metadata": {
        "id": "TK_ctQytvE2Z"
      },
      "source": [
        "Summary statistics for each cluster "
      ]
    },
    {
      "cell_type": "code",
      "metadata": {
        "colab": {
          "base_uri": "https://localhost:8080/",
          "height": 200
        },
        "id": "tc2yCRq8vEmL",
        "outputId": "04e51e1b-d2a1-4e1d-ab90-3cb6526f3ae5"
      },
      "source": [
        "#reassign a cluster to each row in intial dataset \n",
        "\n",
        "movie_data_2 = movie_data.assign(Cluster = y_clusters)\n",
        "\n",
        "movie_data_2.head()\n"
      ],
      "execution_count": 136,
      "outputs": [
        {
          "output_type": "execute_result",
          "data": {
            "text/html": [
              "<div>\n",
              "<style scoped>\n",
              "    .dataframe tbody tr th:only-of-type {\n",
              "        vertical-align: middle;\n",
              "    }\n",
              "\n",
              "    .dataframe tbody tr th {\n",
              "        vertical-align: top;\n",
              "    }\n",
              "\n",
              "    .dataframe thead th {\n",
              "        text-align: right;\n",
              "    }\n",
              "</style>\n",
              "<table border=\"1\" class=\"dataframe\">\n",
              "  <thead>\n",
              "    <tr style=\"text-align: right;\">\n",
              "      <th></th>\n",
              "      <th>Title</th>\n",
              "      <th>Release Date</th>\n",
              "      <th>BoxOffice</th>\n",
              "      <th>TomatoMeter</th>\n",
              "      <th>Duration</th>\n",
              "      <th>Cluster</th>\n",
              "    </tr>\n",
              "  </thead>\n",
              "  <tbody>\n",
              "    <tr>\n",
              "      <th>0</th>\n",
              "      <td>Ready Player One</td>\n",
              "      <td>29-Mar-18</td>\n",
              "      <td>137690172</td>\n",
              "      <td>72</td>\n",
              "      <td>140</td>\n",
              "      <td>1</td>\n",
              "    </tr>\n",
              "    <tr>\n",
              "      <th>1</th>\n",
              "      <td>The Post</td>\n",
              "      <td>22-Dec-17</td>\n",
              "      <td>81903458</td>\n",
              "      <td>88</td>\n",
              "      <td>116</td>\n",
              "      <td>0</td>\n",
              "    </tr>\n",
              "    <tr>\n",
              "      <th>2</th>\n",
              "      <td>The BFG</td>\n",
              "      <td>1-Jul-16</td>\n",
              "      <td>55483770</td>\n",
              "      <td>74</td>\n",
              "      <td>117</td>\n",
              "      <td>0</td>\n",
              "    </tr>\n",
              "    <tr>\n",
              "      <th>3</th>\n",
              "      <td>Bridge of Spies</td>\n",
              "      <td>16-Oct-15</td>\n",
              "      <td>72313754</td>\n",
              "      <td>90</td>\n",
              "      <td>142</td>\n",
              "      <td>0</td>\n",
              "    </tr>\n",
              "    <tr>\n",
              "      <th>4</th>\n",
              "      <td>Lincoln</td>\n",
              "      <td>9-Nov-12</td>\n",
              "      <td>182207973</td>\n",
              "      <td>89</td>\n",
              "      <td>150</td>\n",
              "      <td>1</td>\n",
              "    </tr>\n",
              "  </tbody>\n",
              "</table>\n",
              "</div>"
            ],
            "text/plain": [
              "              Title Release Date  BoxOffice  TomatoMeter  Duration  Cluster\n",
              "0  Ready Player One    29-Mar-18  137690172           72       140        1\n",
              "1          The Post    22-Dec-17   81903458           88       116        0\n",
              "2           The BFG     1-Jul-16   55483770           74       117        0\n",
              "3   Bridge of Spies    16-Oct-15   72313754           90       142        0\n",
              "4           Lincoln     9-Nov-12  182207973           89       150        1"
            ]
          },
          "metadata": {},
          "execution_count": 136
        }
      ]
    },
    {
      "cell_type": "code",
      "metadata": {
        "id": "N-sAqYVZx2b-",
        "colab": {
          "base_uri": "https://localhost:8080/"
        },
        "outputId": "9f8dee77-737c-4c44-d69a-ad058538cd06"
      },
      "source": [
        "cluster_avg = movie_data_2.groupby(['Cluster']).mean()\n",
        "\n",
        "print(cluster_avg)"
      ],
      "execution_count": 137,
      "outputs": [
        {
          "output_type": "stream",
          "name": "stdout",
          "text": [
            "            BoxOffice  TomatoMeter    Duration\n",
            "Cluster                                       \n",
            "0        6.969551e+07    72.176471  138.352941\n",
            "1        1.996405e+08    85.181818  133.363636\n",
            "2        3.849117e+08    89.333333  121.333333\n"
          ]
        }
      ]
    },
    {
      "cell_type": "markdown",
      "metadata": {
        "id": "R2_xMnOIyqm-"
      },
      "source": [
        "**Snake Plot**"
      ]
    },
    {
      "cell_type": "code",
      "metadata": {
        "id": "zkCklLTo3z2m"
      },
      "source": [
        "snake_plot_columns = movie_data_2[['BoxOffice', 'TomatoMeter', 'Duration', 'Cluster']]\n",
        "movie_data_3 = snake_plot_columns"
      ],
      "execution_count": 128,
      "outputs": []
    },
    {
      "cell_type": "code",
      "metadata": {
        "id": "naE3WxAI4_il"
      },
      "source": [
        "#normalize data\n",
        "\n",
        "def normalize(movie_data_3):\n",
        "    dataNorm=((movie_data_3-movie_data_3.min())/(movie_data_3.max()-movie_data_3.min()))\n",
        "    dataNorm[\"Cluster\"]=movie_data_3[\"Cluster\"]\n",
        "    return dataNorm"
      ],
      "execution_count": 129,
      "outputs": []
    },
    {
      "cell_type": "code",
      "metadata": {
        "id": "Zk3eY_MO5Rlh"
      },
      "source": [
        "movie_data_3_normalized=normalize(movie_data_3)"
      ],
      "execution_count": 130,
      "outputs": []
    },
    {
      "cell_type": "code",
      "metadata": {
        "colab": {
          "base_uri": "https://localhost:8080/"
        },
        "id": "54dCme4_5XeZ",
        "outputId": "9890363f-1135-4f09-ec52-d499caf2cd87"
      },
      "source": [
        "print(movie_data_3_normalized)"
      ],
      "execution_count": 131,
      "outputs": [
        {
          "output_type": "stream",
          "name": "stdout",
          "text": [
            "    BoxOffice  TomatoMeter  Duration  Cluster\n",
            "0    0.279630     0.623188  0.408602        1\n",
            "1    0.144512     0.855072  0.150538        0\n",
            "2    0.080522     0.652174  0.161290        0\n",
            "3    0.121285     0.884058  0.430108        0\n",
            "4    0.387455     0.869565  0.516129        1\n",
            "5    0.139619     0.652174  0.473118        0\n",
            "6    0.134069     0.652174  0.053763        0\n",
            "7    0.714174     0.710145  0.215054        2\n",
            "8    0.060892     0.710145  0.666667        0\n",
            "9    0.513577     0.666667  0.150538        1\n",
            "10   0.132814     0.463768  0.279570        0\n",
            "11   0.344824     0.971014  0.419355        1\n",
            "12   0.265908     0.884058  0.462366        0\n",
            "13   0.136551     0.652174  0.473118        0\n",
            "14   0.470113     0.927536  0.720430        1\n",
            "15   0.053222     0.695652  0.569892        0\n",
            "16   0.500998     0.347826  0.290323        1\n",
            "17   0.180831     1.000000  1.000000        0\n",
            "18   0.921072     0.913043  0.268817        2\n",
            "19   0.235948     0.000000  0.430108        0\n",
            "20   0.047484     0.507246  0.215054        0\n",
            "21   0.423698     0.855072  0.268817        1\n",
            "22   0.000000     0.666667  0.548387        0\n",
            "23   0.173881     0.753623  0.559140        0\n",
            "24   0.381817     0.797101  0.172043        1\n",
            "25   0.017587     0.420290  0.000000        0\n",
            "26   1.000000     1.000000  0.139785        2\n",
            "27   0.492762     0.956522  0.139785        1\n",
            "28   0.028910     0.188406  0.172043        0\n",
            "29   0.355708     0.942029  0.387097        1\n",
            "30   0.575872     1.000000  0.236559        1\n"
          ]
        }
      ]
    },
    {
      "cell_type": "code",
      "metadata": {
        "id": "8wPj0KJ75iBR"
      },
      "source": [
        "movie_data_3_normalized_melt = pd.melt(movie_data_3_normalized.reset_index(),\n",
        "                                       id_vars=['Cluster'],\n",
        "                                       value_vars=['BoxOffice', 'TomatoMeter', 'Duration'],\n",
        "                                       var_name='Attribute',\n",
        "                                       value_name='Value')"
      ],
      "execution_count": 132,
      "outputs": []
    },
    {
      "cell_type": "code",
      "metadata": {
        "colab": {
          "base_uri": "https://localhost:8080/",
          "height": 426
        },
        "id": "yMY0Dcz_yqQK",
        "outputId": "d8992180-401e-490b-b4bf-87ed3b4ff0d2"
      },
      "source": [
        "#transform data\n",
        "import numpy as np\n",
        "\n",
        "movie_data_3_log = np.log(movie_data_3)\n",
        "\n",
        "from sklearn.preprocessing import StandardScaler\n",
        "scaler = StandardScaler()\n",
        "scaler.fit(movie_data_3_log)\n",
        "\n",
        "movie_data_3_normalized = scaler.transform(movie_data_3_log)"
      ],
      "execution_count": 133,
      "outputs": [
        {
          "output_type": "stream",
          "name": "stderr",
          "text": [
            "/usr/local/lib/python3.7/dist-packages/ipykernel_launcher.py:4: RuntimeWarning:\n",
            "\n",
            "divide by zero encountered in log\n",
            "\n"
          ]
        },
        {
          "output_type": "error",
          "ename": "ValueError",
          "evalue": "ignored",
          "traceback": [
            "\u001b[0;31m---------------------------------------------------------------------------\u001b[0m",
            "\u001b[0;31mValueError\u001b[0m                                Traceback (most recent call last)",
            "\u001b[0;32m<ipython-input-133-90edb17614b3>\u001b[0m in \u001b[0;36m<module>\u001b[0;34m()\u001b[0m\n\u001b[1;32m      6\u001b[0m \u001b[0;32mfrom\u001b[0m \u001b[0msklearn\u001b[0m\u001b[0;34m.\u001b[0m\u001b[0mpreprocessing\u001b[0m \u001b[0;32mimport\u001b[0m \u001b[0mStandardScaler\u001b[0m\u001b[0;34m\u001b[0m\u001b[0;34m\u001b[0m\u001b[0m\n\u001b[1;32m      7\u001b[0m \u001b[0mscaler\u001b[0m \u001b[0;34m=\u001b[0m \u001b[0mStandardScaler\u001b[0m\u001b[0;34m(\u001b[0m\u001b[0;34m)\u001b[0m\u001b[0;34m\u001b[0m\u001b[0;34m\u001b[0m\u001b[0m\n\u001b[0;32m----> 8\u001b[0;31m \u001b[0mscaler\u001b[0m\u001b[0;34m.\u001b[0m\u001b[0mfit\u001b[0m\u001b[0;34m(\u001b[0m\u001b[0mmovie_data_3_log\u001b[0m\u001b[0;34m)\u001b[0m\u001b[0;34m\u001b[0m\u001b[0;34m\u001b[0m\u001b[0m\n\u001b[0m\u001b[1;32m      9\u001b[0m \u001b[0;34m\u001b[0m\u001b[0m\n\u001b[1;32m     10\u001b[0m \u001b[0mmovie_data_3_normalized\u001b[0m \u001b[0;34m=\u001b[0m \u001b[0mscaler\u001b[0m\u001b[0;34m.\u001b[0m\u001b[0mtransform\u001b[0m\u001b[0;34m(\u001b[0m\u001b[0mmovie_data_3_log\u001b[0m\u001b[0;34m)\u001b[0m\u001b[0;34m\u001b[0m\u001b[0;34m\u001b[0m\u001b[0m\n",
            "\u001b[0;32m/usr/local/lib/python3.7/dist-packages/sklearn/preprocessing/_data.py\u001b[0m in \u001b[0;36mfit\u001b[0;34m(self, X, y)\u001b[0m\n\u001b[1;32m    667\u001b[0m         \u001b[0;31m# Reset internal state before fitting\u001b[0m\u001b[0;34m\u001b[0m\u001b[0;34m\u001b[0m\u001b[0;34m\u001b[0m\u001b[0m\n\u001b[1;32m    668\u001b[0m         \u001b[0mself\u001b[0m\u001b[0;34m.\u001b[0m\u001b[0m_reset\u001b[0m\u001b[0;34m(\u001b[0m\u001b[0;34m)\u001b[0m\u001b[0;34m\u001b[0m\u001b[0;34m\u001b[0m\u001b[0m\n\u001b[0;32m--> 669\u001b[0;31m         \u001b[0;32mreturn\u001b[0m \u001b[0mself\u001b[0m\u001b[0;34m.\u001b[0m\u001b[0mpartial_fit\u001b[0m\u001b[0;34m(\u001b[0m\u001b[0mX\u001b[0m\u001b[0;34m,\u001b[0m \u001b[0my\u001b[0m\u001b[0;34m)\u001b[0m\u001b[0;34m\u001b[0m\u001b[0;34m\u001b[0m\u001b[0m\n\u001b[0m\u001b[1;32m    670\u001b[0m \u001b[0;34m\u001b[0m\u001b[0m\n\u001b[1;32m    671\u001b[0m     \u001b[0;32mdef\u001b[0m \u001b[0mpartial_fit\u001b[0m\u001b[0;34m(\u001b[0m\u001b[0mself\u001b[0m\u001b[0;34m,\u001b[0m \u001b[0mX\u001b[0m\u001b[0;34m,\u001b[0m \u001b[0my\u001b[0m\u001b[0;34m=\u001b[0m\u001b[0;32mNone\u001b[0m\u001b[0;34m)\u001b[0m\u001b[0;34m:\u001b[0m\u001b[0;34m\u001b[0m\u001b[0;34m\u001b[0m\u001b[0m\n",
            "\u001b[0;32m/usr/local/lib/python3.7/dist-packages/sklearn/preprocessing/_data.py\u001b[0m in \u001b[0;36mpartial_fit\u001b[0;34m(self, X, y)\u001b[0m\n\u001b[1;32m    698\u001b[0m         X = check_array(X, accept_sparse=('csr', 'csc'),\n\u001b[1;32m    699\u001b[0m                         \u001b[0mestimator\u001b[0m\u001b[0;34m=\u001b[0m\u001b[0mself\u001b[0m\u001b[0;34m,\u001b[0m \u001b[0mdtype\u001b[0m\u001b[0;34m=\u001b[0m\u001b[0mFLOAT_DTYPES\u001b[0m\u001b[0;34m,\u001b[0m\u001b[0;34m\u001b[0m\u001b[0;34m\u001b[0m\u001b[0m\n\u001b[0;32m--> 700\u001b[0;31m                         force_all_finite='allow-nan')\n\u001b[0m\u001b[1;32m    701\u001b[0m \u001b[0;34m\u001b[0m\u001b[0m\n\u001b[1;32m    702\u001b[0m         \u001b[0;31m# Even in the case of `with_mean=False`, we update the mean anyway\u001b[0m\u001b[0;34m\u001b[0m\u001b[0;34m\u001b[0m\u001b[0;34m\u001b[0m\u001b[0m\n",
            "\u001b[0;32m/usr/local/lib/python3.7/dist-packages/sklearn/utils/validation.py\u001b[0m in \u001b[0;36mcheck_array\u001b[0;34m(array, accept_sparse, accept_large_sparse, dtype, order, copy, force_all_finite, ensure_2d, allow_nd, ensure_min_samples, ensure_min_features, warn_on_dtype, estimator)\u001b[0m\n\u001b[1;32m    576\u001b[0m         \u001b[0;32mif\u001b[0m \u001b[0mforce_all_finite\u001b[0m\u001b[0;34m:\u001b[0m\u001b[0;34m\u001b[0m\u001b[0;34m\u001b[0m\u001b[0m\n\u001b[1;32m    577\u001b[0m             _assert_all_finite(array,\n\u001b[0;32m--> 578\u001b[0;31m                                allow_nan=force_all_finite == 'allow-nan')\n\u001b[0m\u001b[1;32m    579\u001b[0m \u001b[0;34m\u001b[0m\u001b[0m\n\u001b[1;32m    580\u001b[0m     \u001b[0;32mif\u001b[0m \u001b[0mensure_min_samples\u001b[0m \u001b[0;34m>\u001b[0m \u001b[0;36m0\u001b[0m\u001b[0;34m:\u001b[0m\u001b[0;34m\u001b[0m\u001b[0;34m\u001b[0m\u001b[0m\n",
            "\u001b[0;32m/usr/local/lib/python3.7/dist-packages/sklearn/utils/validation.py\u001b[0m in \u001b[0;36m_assert_all_finite\u001b[0;34m(X, allow_nan, msg_dtype)\u001b[0m\n\u001b[1;32m     58\u001b[0m                     \u001b[0mmsg_err\u001b[0m\u001b[0;34m.\u001b[0m\u001b[0mformat\u001b[0m\u001b[0;34m\u001b[0m\u001b[0;34m\u001b[0m\u001b[0m\n\u001b[1;32m     59\u001b[0m                     (type_err,\n\u001b[0;32m---> 60\u001b[0;31m                      msg_dtype if msg_dtype is not None else X.dtype)\n\u001b[0m\u001b[1;32m     61\u001b[0m             )\n\u001b[1;32m     62\u001b[0m     \u001b[0;31m# for object dtype data, we only check for NaNs (GH-13254)\u001b[0m\u001b[0;34m\u001b[0m\u001b[0;34m\u001b[0m\u001b[0;34m\u001b[0m\u001b[0m\n",
            "\u001b[0;31mValueError\u001b[0m: Input contains infinity or a value too large for dtype('float64')."
          ]
        }
      ]
    },
    {
      "cell_type": "code",
      "metadata": {
        "colab": {
          "base_uri": "https://localhost:8080/",
          "height": 311
        },
        "id": "Kzqc0C3H6OT1",
        "outputId": "a6514ba4-89be-4457-b09e-757f8d29e716"
      },
      "source": [
        "\n",
        "plt.title('Snake plot of variables')\n",
        "sns.lineplot(x=\"Attribute\", y=\"Value\", hue='Cluster', data=movie_data_3_normalized_melt, palette=customized_palette)\n",
        "\n"
      ],
      "execution_count": 138,
      "outputs": [
        {
          "output_type": "execute_result",
          "data": {
            "text/plain": [
              "<matplotlib.axes._subplots.AxesSubplot at 0x7f39fe34b990>"
            ]
          },
          "metadata": {},
          "execution_count": 138
        },
        {
          "output_type": "display_data",
          "data": {
            "image/png": "[encoded data removed]",
            "text/plain": [
              "<Figure size 432x288 with 1 Axes>"
            ]
          },
          "metadata": {
            "needs_background": "light"
          }
        }
      ]
    },
    {
      "cell_type": "code",
      "metadata": {
        "colab": {
          "base_uri": "https://localhost:8080/",
          "height": 466
        },
        "id": "YNowTYwHXwo4",
        "outputId": "817f6af8-7995-453e-d227-3dc3363d012e"
      },
      "source": [
        "facet = sns.lmplot(data=movie_data_3, x='BoxOffice', y='TomatoMeter', hue='Cluster', \n",
        "                   fit_reg=False, legend=True, legend_out=True, palette=customized_palette)\n",
        "\n",
        "facet.set_xticklabels(['0','100M', '200M', '300M', '400M'])\n",
        "\n",
        "centers = kmeans.cluster_centers_\n",
        "plt.scatter(centers[:, 0], centers[:, 1], c='black', s=200, alpha=0.5)\n",
        "\n",
        "#add text annotations \n",
        "plt.text(400100554, 97, \"E.T.\", size='medium', color='black')\n",
        "plt.text(73154823, 28, \"Hook\", size='medium', color='black')\n",
        "plt.text(129086679, 52, \"The Lost World:\\nJurassic Park\", size='medium', color='black')\n",
        "plt.title(\"K Means Cluster of Spielberg Films\")\n"
      ],
      "execution_count": 135,
      "outputs": [
        {
          "output_type": "stream",
          "name": "stderr",
          "text": [
            "/usr/local/lib/python3.7/dist-packages/seaborn/regression.py:592: UserWarning:\n",
            "\n",
            "legend_out is deprecated from the `lmplot` function signature. Please update your code to pass it using `facet_kws`.\n",
            "\n"
          ]
        },
        {
          "output_type": "execute_result",
          "data": {
            "text/plain": [
              "Text(0.5, 1.0, 'K Means Cluster of Spielberg Films')"
            ]
          },
          "metadata": {},
          "execution_count": 135
        },
        {
          "output_type": "display_data",
          "data": {
            "image/png": "[encoded data removed]",
            "text/plain": [
              "<Figure size 403.5x360 with 1 Axes>"
            ]
          },
          "metadata": {
            "needs_background": "light"
          }
        }
      ]
    },
    {
      "cell_type": "markdown",
      "metadata": {
        "id": "Sy4XNnWBowT3"
      },
      "source": [
        "# Next Steps & Future Analysis"
      ]
    },
    {
      "cell_type": "markdown",
      "metadata": {
        "id": "cwGs2yYYpA6r"
      },
      "source": [
        "**3D Clustering**"
      ]
    },
    {
      "cell_type": "code",
      "metadata": {
        "colab": {
          "base_uri": "https://localhost:8080/",
          "height": 255
        },
        "id": "81vZ2bwFpAUk",
        "outputId": "5fad2987-23ee-4694-8165-f5e49b9527b3"
      },
      "source": [
        "#3D scatterplot with plotly\n",
        "\n",
        "Scene = dict(xaxis = dict(title  = 'Age -->'),yaxis = dict(title  = 'Spending Score--->'),zaxis = dict(title  = 'Annual Income-->'))\n",
        "\n",
        "# model.labels_ is nothing but the predicted clusters i.e y_clusters\n",
        "labels = kmeans.labels_\n",
        "trace = Scatter3d(x=x[:, 0], y=x[:, 1], z=x[:, 2], mode='markers',marker=dict(color = labels, size= 10, line=dict(color= 'black',width = 10)))\n",
        "layout = Layout(margin=dict(l=0,r=0),scene = Scene,height = 800,width = 800)\n",
        "data = [trace]\n",
        "fig.show()"
      ],
      "execution_count": null,
      "outputs": [
        {
          "output_type": "error",
          "ename": "NameError",
          "evalue": "ignored",
          "traceback": [
            "\u001b[0;31m---------------------------------------------------------------------------\u001b[0m",
            "\u001b[0;31mNameError\u001b[0m                                 Traceback (most recent call last)",
            "\u001b[0;32m<ipython-input-26-b24225cf2e89>\u001b[0m in \u001b[0;36m<module>\u001b[0;34m()\u001b[0m\n\u001b[1;32m      5\u001b[0m \u001b[0;31m# model.labels_ is nothing but the predicted clusters i.e y_clusters\u001b[0m\u001b[0;34m\u001b[0m\u001b[0;34m\u001b[0m\u001b[0;34m\u001b[0m\u001b[0m\n\u001b[1;32m      6\u001b[0m \u001b[0mlabels\u001b[0m \u001b[0;34m=\u001b[0m \u001b[0mkmeans\u001b[0m\u001b[0;34m.\u001b[0m\u001b[0mlabels_\u001b[0m\u001b[0;34m\u001b[0m\u001b[0;34m\u001b[0m\u001b[0m\n\u001b[0;32m----> 7\u001b[0;31m \u001b[0mtrace\u001b[0m \u001b[0;34m=\u001b[0m \u001b[0mScatter3d\u001b[0m\u001b[0;34m(\u001b[0m\u001b[0mx\u001b[0m\u001b[0;34m=\u001b[0m\u001b[0mx\u001b[0m\u001b[0;34m[\u001b[0m\u001b[0;34m:\u001b[0m\u001b[0;34m,\u001b[0m \u001b[0;36m0\u001b[0m\u001b[0;34m]\u001b[0m\u001b[0;34m,\u001b[0m \u001b[0my\u001b[0m\u001b[0;34m=\u001b[0m\u001b[0mx\u001b[0m\u001b[0;34m[\u001b[0m\u001b[0;34m:\u001b[0m\u001b[0;34m,\u001b[0m \u001b[0;36m1\u001b[0m\u001b[0;34m]\u001b[0m\u001b[0;34m,\u001b[0m \u001b[0mz\u001b[0m\u001b[0;34m=\u001b[0m\u001b[0mx\u001b[0m\u001b[0;34m[\u001b[0m\u001b[0;34m:\u001b[0m\u001b[0;34m,\u001b[0m \u001b[0;36m2\u001b[0m\u001b[0;34m]\u001b[0m\u001b[0;34m,\u001b[0m \u001b[0mmode\u001b[0m\u001b[0;34m=\u001b[0m\u001b[0;34m'markers'\u001b[0m\u001b[0;34m,\u001b[0m\u001b[0mmarker\u001b[0m\u001b[0;34m=\u001b[0m\u001b[0mdict\u001b[0m\u001b[0;34m(\u001b[0m\u001b[0mcolor\u001b[0m \u001b[0;34m=\u001b[0m \u001b[0mlabels\u001b[0m\u001b[0;34m,\u001b[0m \u001b[0msize\u001b[0m\u001b[0;34m=\u001b[0m \u001b[0;36m10\u001b[0m\u001b[0;34m,\u001b[0m \u001b[0mline\u001b[0m\u001b[0;34m=\u001b[0m\u001b[0mdict\u001b[0m\u001b[0;34m(\u001b[0m\u001b[0mcolor\u001b[0m\u001b[0;34m=\u001b[0m \u001b[0;34m'black'\u001b[0m\u001b[0;34m,\u001b[0m\u001b[0mwidth\u001b[0m \u001b[0;34m=\u001b[0m \u001b[0;36m10\u001b[0m\u001b[0;34m)\u001b[0m\u001b[0;34m)\u001b[0m\u001b[0;34m)\u001b[0m\u001b[0;34m\u001b[0m\u001b[0;34m\u001b[0m\u001b[0m\n\u001b[0m\u001b[1;32m      8\u001b[0m \u001b[0mlayout\u001b[0m \u001b[0;34m=\u001b[0m \u001b[0mLayout\u001b[0m\u001b[0;34m(\u001b[0m\u001b[0mmargin\u001b[0m\u001b[0;34m=\u001b[0m\u001b[0mdict\u001b[0m\u001b[0;34m(\u001b[0m\u001b[0ml\u001b[0m\u001b[0;34m=\u001b[0m\u001b[0;36m0\u001b[0m\u001b[0;34m,\u001b[0m\u001b[0mr\u001b[0m\u001b[0;34m=\u001b[0m\u001b[0;36m0\u001b[0m\u001b[0;34m)\u001b[0m\u001b[0;34m,\u001b[0m\u001b[0mscene\u001b[0m \u001b[0;34m=\u001b[0m \u001b[0mScene\u001b[0m\u001b[0;34m,\u001b[0m\u001b[0mheight\u001b[0m \u001b[0;34m=\u001b[0m \u001b[0;36m800\u001b[0m\u001b[0;34m,\u001b[0m\u001b[0mwidth\u001b[0m \u001b[0;34m=\u001b[0m \u001b[0;36m800\u001b[0m\u001b[0;34m)\u001b[0m\u001b[0;34m\u001b[0m\u001b[0;34m\u001b[0m\u001b[0m\n\u001b[1;32m      9\u001b[0m \u001b[0mdata\u001b[0m \u001b[0;34m=\u001b[0m \u001b[0;34m[\u001b[0m\u001b[0mtrace\u001b[0m\u001b[0;34m]\u001b[0m\u001b[0;34m\u001b[0m\u001b[0;34m\u001b[0m\u001b[0m\n",
            "\u001b[0;31mNameError\u001b[0m: name 'Scatter3d' is not defined"
          ]
        }
      ]
    },
    {
      "cell_type": "code",
      "metadata": {
        "colab": {
          "base_uri": "https://localhost:8080/",
          "height": 200
        },
        "id": "I_nskJzmpr9l",
        "outputId": "2e1c8e54-3494-41a1-c1cb-2630f638a8fe"
      },
      "source": [
        "#3d clustering\n",
        "#https://plotly.com/python/v3/3d-point-clustering/\n",
        "\n",
        "scatter = dict(\n",
        "    mode = \"markers\",\n",
        "    name = \"y\",\n",
        "    type = \"scatter3d\",\n",
        "    x = movie_data['BoxOffice'], y = movie_data['TomatoMeter'], z = movie_data['Duration'],\n",
        "    marker = dict( size=2, color=\"rgb(23, 190, 207)\" )\n",
        ")\n",
        "clusters = dict(\n",
        "    alphahull = 7,\n",
        "    name = \"y\",\n",
        "    opacity = 0.1,\n",
        "    type = \"mesh3d\",\n",
        "    x = movie_data['BoxOffice'], y = movie_data['TomatoMeter'], z = movie_data['Duration']\n",
        ")\n",
        "layout = dict(\n",
        "    title = '3d point clustering',\n",
        "    scene = dict(\n",
        "        xaxis = dict( zeroline=False ),\n",
        "        yaxis = dict( zeroline=False ),\n",
        "        zaxis = dict( zeroline=False ),\n",
        "    )\n",
        ")\n",
        "fig = dict( data=[scatter, clusters], layout=layout )\n",
        "# Use py.iplot() for IPython notebook\n",
        "py.iplot(fig, filename='3d point clustering')"
      ],
      "execution_count": null,
      "outputs": [
        {
          "output_type": "error",
          "ename": "AttributeError",
          "evalue": "ignored",
          "traceback": [
            "\u001b[0;31m---------------------------------------------------------------------------\u001b[0m",
            "\u001b[0;31mAttributeError\u001b[0m                            Traceback (most recent call last)",
            "\u001b[0;32m<ipython-input-31-e6041b59e1af>\u001b[0m in \u001b[0;36m<module>\u001b[0;34m()\u001b[0m\n\u001b[1;32m     25\u001b[0m \u001b[0mfig\u001b[0m \u001b[0;34m=\u001b[0m \u001b[0mdict\u001b[0m\u001b[0;34m(\u001b[0m \u001b[0mdata\u001b[0m\u001b[0;34m=\u001b[0m\u001b[0;34m[\u001b[0m\u001b[0mscatter\u001b[0m\u001b[0;34m,\u001b[0m \u001b[0mclusters\u001b[0m\u001b[0;34m]\u001b[0m\u001b[0;34m,\u001b[0m \u001b[0mlayout\u001b[0m\u001b[0;34m=\u001b[0m\u001b[0mlayout\u001b[0m \u001b[0;34m)\u001b[0m\u001b[0;34m\u001b[0m\u001b[0;34m\u001b[0m\u001b[0m\n\u001b[1;32m     26\u001b[0m \u001b[0;31m# Use py.iplot() for IPython notebook\u001b[0m\u001b[0;34m\u001b[0m\u001b[0;34m\u001b[0m\u001b[0;34m\u001b[0m\u001b[0m\n\u001b[0;32m---> 27\u001b[0;31m \u001b[0mpy\u001b[0m\u001b[0;34m.\u001b[0m\u001b[0miplot\u001b[0m\u001b[0;34m(\u001b[0m\u001b[0mfig\u001b[0m\u001b[0;34m,\u001b[0m \u001b[0mfilename\u001b[0m\u001b[0;34m=\u001b[0m\u001b[0;34m'3d point clustering'\u001b[0m\u001b[0;34m)\u001b[0m\u001b[0;34m\u001b[0m\u001b[0;34m\u001b[0m\u001b[0m\n\u001b[0m",
            "\u001b[0;31mAttributeError\u001b[0m: module 'plotly' has no attribute 'iplot'"
          ]
        }
      ]
    },
    {
      "cell_type": "code",
      "metadata": {
        "colab": {
          "base_uri": "https://localhost:8080/",
          "height": 248
        },
        "id": "InDSDoYprmCk",
        "outputId": "4ee23126-b7e0-415c-ac20-d271fec8e109"
      },
      "source": [
        "fig = plt.figure()\n",
        "ax = fig.add_subplot(111, projection='3d')\n",
        "scatter = ax.scatter(kmeans.cluster_centers_[:, 0],\n",
        "                     kmeans.cluster_centers_[:,1],\n",
        "                     kmeans.cluster_centers_[:,0],\n",
        "                     s=250,\n",
        "                     marker='o',\n",
        "                     c='red',\n",
        "                     label='centroids')\n",
        "scatter = ax.scatter(movie_data['BoxOffice'],movie_data['TomatoMeter'], movie_data['Duration'],\n",
        "                     c=y_clusters,s=20, cmap='winter')\n",
        "\n",
        "\n",
        "ax.set_title('K-Means Clustering 3D')\n",
        "ax.set_xlabel('Box Office')\n",
        "ax.set_ylabel('Tomato Meter')\n",
        "ax.set_zlabel('Duration')\n",
        "ax.legend()\n",
        "plt.show()"
      ],
      "execution_count": null,
      "outputs": [
        {
          "output_type": "display_data",
          "data": {
            "image/png": "[encoded data removed]",
            "text/plain": [
              "<Figure size 432x288 with 1 Axes>"
            ]
          },
          "metadata": {
            "needs_background": "light"
          }
        }
      ]
    },
    {
      "cell_type": "markdown",
      "metadata": {
        "id": "ba4OpPuPoz38"
      },
      "source": [
        "# Data Sources"
      ]
    },
    {
      "cell_type": "markdown",
      "metadata": {
        "id": "de7RwBbWswNr"
      },
      "source": [
        "**Data sources used to create dataset**\n",
        "\n",
        "\n",
        "\n",
        "*   [IMDB Dataset on Kaggle](https://www.kaggle.com/stefanoleone992/imdb-extensive-dataset?select=IMDb+movies.csv)\n",
        "*   [Rotten Tomatoes Rankings](https://www.rottentomatoes.com/celebrity/steve_spielberg)\n",
        "*   [Box Office data from The Numbers](https://www.the-numbers.com/person/135430401-Steven-Spielberg#tab=technical)\n",
        "\n",
        "\n",
        "\n"
      ]
    },
    {
      "cell_type": "markdown",
      "metadata": {
        "id": "6T-e3wAlo1jn"
      },
      "source": [
        "# Helpful K-Means Tutorials & Resources"
      ]
    },
    {
      "cell_type": "markdown",
      "metadata": {
        "id": "ZN4E3QTWauuH"
      },
      "source": [
        "*   [Ben Alex Keen - K-Means Clustering in Python](https://benalexkeen.com/k-means-clustering-in-python/)\n",
        "*   [Amanda Dobbyn - Beer-in-Hand Data Science](https://github.com/aedobbyn/beer-data-science/blob/master/compile/compile.md) \n",
        "*   [K-Means Clustering in Python: A Practical Guide](https://realpython.com/k-means-clustering-python/)\n",
        "*   [Variance Explained - K-Means clustering is not a free lunch](http://varianceexplained.org/r/kmeans-free-lunch/)\n",
        "*   [Oracle AI & Data Science Blog - Introduction to K-Means Clustering](https://blogs.oracle.com/ai-and-datascience/post/introduction-to-k-means-clustering)\n",
        "\n",
        "\n",
        "\n",
        "\n",
        "\n",
        "\n"
      ]
    }
  ]
}